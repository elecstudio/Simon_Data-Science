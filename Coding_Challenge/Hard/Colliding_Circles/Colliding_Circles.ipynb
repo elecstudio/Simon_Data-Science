{
 "cells": [
  {
   "cell_type": "markdown",
   "metadata": {},
   "source": [
    "# Colliding Circles"
   ]
  },
  {
   "cell_type": "code",
   "execution_count": null,
   "metadata": {},
   "outputs": [],
   "source": [
    "import sys\n",
    "import math\n",
    "\n",
    "n,k = input().strip().split(' ')\n",
    "n,k = [int(n),int(k)]\n",
    "r = list(map(int, input().strip().split(' ')))\n",
    "\n",
    "# if one circle last after collision\n",
    "if n - k == 1:\n",
    "    big_r = sum(r)\n",
    "    area = math.pi * big_r**2\n",
    "    print(\"%.10f\" % area)\n",
    "else:\n",
    "    i = 0\n",
    "    j = 1\n",
    "    accumulated_area = 0\n",
    "    while True:\n",
    "        if i + j > len(r):\n",
    "            break\n",
    "        \n",
    "        new_circle = r[i] + r[j]\n",
    "        merged_area = (math.pi * new_circle**2) + (math.pi * r[3-i-j]**2)\n",
    "        accumulated_area += merged_area\n",
    "        \n",
    "        if j == len(r) - 1:\n",
    "            i += 1\n",
    "        else:\n",
    "            j += 1\n",
    "            \n",
    "    print(\"%.10f\" % (accumulated_area / len(r)))"
   ]
  }
 ],
 "metadata": {
  "kernelspec": {
   "display_name": "Python 3",
   "language": "python",
   "name": "python3"
  },
  "language_info": {
   "codemirror_mode": {
    "name": "ipython",
    "version": 3
   },
   "file_extension": ".py",
   "mimetype": "text/x-python",
   "name": "python",
   "nbconvert_exporter": "python",
   "pygments_lexer": "ipython3",
   "version": "3.6.8"
  },
  "nav_menu": {},
  "toc": {
   "navigate_menu": true,
   "number_sections": true,
   "sideBar": true,
   "threshold": 6,
   "toc_cell": false,
   "toc_section_display": "block",
   "toc_window_display": false
  }
 },
 "nbformat": 4,
 "nbformat_minor": 2
}
