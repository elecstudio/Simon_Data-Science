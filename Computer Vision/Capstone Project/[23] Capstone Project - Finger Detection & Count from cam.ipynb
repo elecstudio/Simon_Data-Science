{
 "cells": [
  {
   "cell_type": "markdown",
   "metadata": {},
   "source": [
    "# Capstone Project"
   ]
  },
  {
   "cell_type": "markdown",
   "metadata": {},
   "source": [
    "This capstone project allows me to implement a deep learning neural network to detect fingers from cam and count the number of extended fingers.\n",
    "The main techniques used are; Threshold, Contour Detection, Convex Hull, Gaussian Blur."
   ]
  },
  {
   "cell_type": "code",
   "execution_count": 1,
   "metadata": {},
   "outputs": [],
   "source": [
    "from sklearn.metrics import pairwise\n",
    "import cv2\n",
    "import numpy as np"
   ]
  },
  {
   "cell_type": "markdown",
   "metadata": {},
   "source": [
    "## Set global variables"
   ]
  },
  {
   "cell_type": "code",
   "execution_count": null,
   "metadata": {},
   "outputs": [],
   "source": [
    "background = None\n",
    "accumulated_weight = 0.5\n",
    "roi_top = 20\n",
    "roi_bottom = 300\n",
    "roi_right = 300\n",
    "roi_left = 600"
   ]
  },
  {
   "cell_type": "markdown",
   "metadata": {},
   "source": [
    "## Calculate Accumulated average"
   ]
  },
  {
   "cell_type": "markdown",
   "metadata": {},
   "source": [
    "It will update the running average of the background value in an ROI. It will detect objects when enters in."
   ]
  },
  {
   "cell_type": "markdown",
   "metadata": {},
   "source": [
    "First, grab ROI and get running average for 60 frames of video. After average value is calculated, we can put our hands in ROI."
   ]
  },
  {
   "cell_type": "code",
   "execution_count": null,
   "metadata": {},
   "outputs": [],
   "source": [
    "def calc_accum_avg(frame, accumulated_weight):\n",
    "    global background\n",
    "    \n",
    "    # very first time\n",
    "    if background is None:\n",
    "        background = frame.copy().astype('float')\n",
    "        return None\n",
    "    cv2.accumulateWeighted(frame, background, accumulated_weight)"
   ]
  },
  {
   "cell_type": "markdown",
   "metadata": {},
   "source": [
    "## Find segment"
   ]
  },
  {
   "cell_type": "markdown",
   "metadata": {},
   "source": [
    "Grab hand segment from ROI"
   ]
  },
  {
   "cell_type": "code",
   "execution_count": null,
   "metadata": {},
   "outputs": [],
   "source": [
    "def segment(frame, threshold_min = 25):\n",
    "    diff = cv2.absdiff(background.astype('uint8'), frame)\n",
    "    \n",
    "    # apply threshold to img\n",
    "    ret, thresholded = cv2.threshold(diff, threshold_min, 255, cv2.THRESH_BINARY)\n",
    "    \n",
    "    # grab contour\n",
    "    image, contours, hierarchy = cv2.findContours(thresholded.copy(), cv2.RETR_EXTERNAL, cv2.CHAIN_APPROX_SIMPLE)\n",
    "    \n",
    "    if len(contours) == 0: # didn't detect any contour\n",
    "        return None\n",
    "    else:\n",
    "        # assume largest external contour in ROI is hand\n",
    "        hand_segment = max(contours, key = cv2.contourArea)\n",
    "        \n",
    "        return (thresholded, hand_segment)"
   ]
  },
  {
   "cell_type": "markdown",
   "metadata": {},
   "source": [
    "## Count fingers through Convex Hull"
   ]
  },
  {
   "cell_type": "markdown",
   "metadata": {},
   "source": [
    "Convex Hull will draw a polygon around the hand. It connects points around most external points in a frame."
   ]
  },
  {
   "cell_type": "markdown",
   "metadata": {},
   "source": [
    "We need to get rid of wrist part. So we calculate the most extreme values (top, bottom, left, right)."
   ]
  },
  {
   "cell_type": "markdown",
   "metadata": {},
   "source": [
    "Then use their intersection to get the center. Then calculate the distance the furthest away from the center. And use that distance to create a circle (in this case that distance will be the radius of that circle).  "
   ]
  },
  {
   "cell_type": "markdown",
   "metadata": {},
   "source": [
    "Any points outside of the circle are extended fingers so we count them."
   ]
  },
  {
   "cell_type": "code",
   "execution_count": null,
   "metadata": {},
   "outputs": [],
   "source": [
    "def count_fingers(thresholded, hand_segments):\n",
    "    conv_hull = cv2.convexHull(hand_segments)\n",
    "    # top\n",
    "    top = tuple(conv_hull[conv_hull[:,:,1].argmin()[0]])\n",
    "    bottom = tuple(conv_hull[conv_hull[:,:,1].argmin()[0]])\n",
    "    left = tuple(conv_hull[conv_hull[:,:,0].argmin()[0]])\n",
    "    right = tuple(conv_hull[conv_hull[:,:,0].argmin()[0]])\n",
    "    \n",
    "    # find center\n",
    "    cX = (left[0] + right[0]) // 2\n",
    "    cY = (top[1] + bottom[1]) // 2\n",
    "    \n",
    "    distance = pairwise.euclidean_distances([cX, cY], Y = [left, right, top, bottom])[0]\n",
    "    \n",
    "    # get max distance\n",
    "    max_distance = distance.max()\n",
    "    \n",
    "    # create a circle\n",
    "    radius = int(0.9 * max_distance)\n",
    "    circumference = (2 * np.pi * radius)\n",
    "    \n",
    "    # ROI for that circle (exclude color channel)\n",
    "    circular_roi = np.zeros(thresholded[:2], dtype = 'uint8')\n",
    "    \n",
    "    # draw circle\n",
    "    cv2.circle(circular_roi, (cX, cY), radius, 255, 10)\n",
    "    \n",
    "    circular_roi = cv2.bitwise_and(thresholded, thresholded, mask = circular_roi)\n",
    "    \n",
    "    image, contours, hierarchy = cv2.findContours(circular_roi.copy(), cv2.RETR_EXTERNAL, cv2.CHAIN_APPROX_NONE)\n",
    "    \n",
    "    count = 0\n",
    "    for cnt in contours:\n",
    "        (x,y,w,h) = cv2.bondingRect(cnt)\n",
    "        \n",
    "        out_of_wrist = (cY + (cY * 0.25)) > (y + h)\n",
    "        \n",
    "        limit_points = ((circumference * 0.25) > cnt.shape[0])\n",
    "        \n",
    "        if out_of_wrist and limit_points:\n",
    "            count += 1\n",
    "            \n",
    "    return count"
   ]
  },
  {
   "cell_type": "markdown",
   "metadata": {},
   "source": [
    "## Run on live cam"
   ]
  },
  {
   "cell_type": "code",
   "execution_count": null,
   "metadata": {},
   "outputs": [],
   "source": [
    "cam = cv2.VideoCapture(0)\n",
    "\n",
    "num_frames = 0\n",
    "\n",
    "while True:\n",
    "    ret, frame = cam.read()\n",
    "    \n",
    "    frame_copy = frame.copy()\n",
    "    \n",
    "    roi = frame[roi_top:roi_bottom, roi_right:roi_left]\n",
    "    \n",
    "    gray = cv2.cvtColor(roi, cv2.COLOR_BGR2GRAY)\n",
    "    \n",
    "    gray = cv2.GaussianBlur(gray, (7,7), 0)\n",
    "    \n",
    "    if num_frames < 60: # for first 60 frames, \n",
    "        # calculate accumulated \n",
    "        calc_accum_avg(gray, accumulated_weight)\n",
    "        \n",
    "        if num_frames <= 59:\n",
    "            cv2.putText(frame_copy, 'WAIT. Getting Background....', (200,300), cv2.FONT_HERSHEY_SIMPLEX, 1, (0,0,255),3)\n",
    "            cv2.imshow('Finger Counts', frame_copy)\n",
    "    else:\n",
    "        hand = segment(gray)\n",
    "        \n",
    "        if hand is not None:\n",
    "            thresholded, hand_segment = hand\n",
    "            \n",
    "            cv2.drawContours(frame_copy, [hand_segment + (roi_right, roi_top)], -1, (255,0,0), 5)\n",
    "            \n",
    "            fingers = count_fingers(thresholded, hand_segment)\n",
    "            \n",
    "            cv2.putText(frame_copy, str(fingers), (70,50), cv2.FONT_HERSHEY_DUPLEX, 1, (0,0,255),2)\n",
    "            \n",
    "            cv2.imshow('Thresholded', thresholded)\n",
    "            \n",
    "    cv2.rectangle(frame_copy, (roi_left, roi_top), (roi_right, roi_bottom), (0,0,200), 5)\n",
    "    \n",
    "    num_frames += 1\n",
    "    \n",
    "    cv2.imshow('Finger Counts', frame_copy)\n",
    "    \n",
    "    k = cv2.waitKey(1) & 0xFF\n",
    "    if k == 27:\n",
    "        break\n",
    "        \n",
    "cv2.destroyAllWindows()\n",
    "cam.release()\n",
    "            "
   ]
  },
  {
   "cell_type": "code",
   "execution_count": null,
   "metadata": {},
   "outputs": [],
   "source": []
  }
 ],
 "metadata": {
  "kernelspec": {
   "display_name": "Python 3",
   "language": "python",
   "name": "python3"
  },
  "language_info": {
   "codemirror_mode": {
    "name": "ipython",
    "version": 3
   },
   "file_extension": ".py",
   "mimetype": "text/x-python",
   "name": "python",
   "nbconvert_exporter": "python",
   "pygments_lexer": "ipython3",
   "version": "3.6.8"
  },
  "nav_menu": {},
  "toc": {
   "navigate_menu": true,
   "number_sections": true,
   "sideBar": true,
   "threshold": 6,
   "toc_cell": false,
   "toc_section_display": "block",
   "toc_window_display": false
  }
 },
 "nbformat": 4,
 "nbformat_minor": 2
}
